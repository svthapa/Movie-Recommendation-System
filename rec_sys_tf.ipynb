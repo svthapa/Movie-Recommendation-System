{
  "nbformat": 4,
  "nbformat_minor": 0,
  "metadata": {
    "accelerator": "GPU",
    "colab": {
      "name": "rec_sys_tf.ipynb",
      "provenance": [],
      "collapsed_sections": []
    },
    "kernelspec": {
      "display_name": "Python 3",
      "name": "python3"
    },
    "language_info": {
      "name": "python"
    }
  },
  "cells": [
    {
      "cell_type": "markdown",
      "metadata": {
        "id": "Kmze2LzXJUKV"
      },
      "source": [
        "Imports:"
      ]
    },
    {
      "cell_type": "code",
      "metadata": {
        "id": "1WvmeBN1hTT2",
        "colab": {
          "base_uri": "https://localhost:8080/"
        },
        "outputId": "29b2c5c1-f89d-4bd7-ead0-82658e7bcc8a"
      },
      "source": [
        "#importing required packages\n",
        "import pandas as pd\n",
        "import tensorflow.compat.v1 as tf\n",
        "import numpy as np\n",
        "import collections\n",
        "from IPython import display\n",
        "tf.disable_v2_behavior()"
      ],
      "execution_count": null,
      "outputs": [
        {
          "output_type": "stream",
          "text": [
            "WARNING:tensorflow:From /usr/local/lib/python3.7/dist-packages/tensorflow/python/compat/v2_compat.py:96: disable_resource_variables (from tensorflow.python.ops.variable_scope) is deprecated and will be removed in a future version.\n",
            "Instructions for updating:\n",
            "non-resource variables are not supported in the long term\n"
          ],
          "name": "stdout"
        }
      ]
    },
    {
      "cell_type": "markdown",
      "metadata": {
        "id": "PwmthfFnJYBg"
      },
      "source": [
        "importing datasets:"
      ]
    },
    {
      "cell_type": "code",
      "metadata": {
        "id": "ITnWovWPhhAP"
      },
      "source": [
        "columns_name = ['userId',\"movieId\",\"rating\",\"timestamp\"]\n",
        "ratings_df = pd.read_csv(\"u.data\", sep='\\t', names = columns_name) #rating Dataframe with userId, movieId, and Rating"
      ],
      "execution_count": null,
      "outputs": []
    },
    {
      "cell_type": "code",
      "metadata": {
        "id": "Cy7TrnEBo5j4"
      },
      "source": [
        "users_cols = ['userId', 'age', 'sex', 'occupation', 'zip_code']\n",
        "users_df = pd.read_csv('u.user', sep='|', names=users_cols, encoding='latin-1') #user Dataframe with UserId"
      ],
      "execution_count": null,
      "outputs": []
    },
    {
      "cell_type": "code",
      "metadata": {
        "id": "JDktbJZuhm0n"
      },
      "source": [
        "genre_cols = [\n",
        "    \"genre_unknown\", \"Action\", \"Adventure\", \"Animation\", \"Children\", \"Comedy\",\n",
        "    \"Crime\", \"Documentary\", \"Drama\", \"Fantasy\", \"Film-Noir\", \"Horror\",\n",
        "    \"Musical\", \"Mystery\", \"Romance\", \"Sci-Fi\", \"Thriller\", \"War\", \"Western\"\n",
        "]\n",
        "movies_cols = ['movieId', 'title', 'release_date', \"video_release_date\", \"imdb_url\"\n",
        "] + genre_cols\n",
        "movies_df = pd.read_csv('u.item', sep='|', names=movies_cols, encoding='latin-1')\n",
        "movies_df = movies_df.drop('video_release_date', axis = 1) #movie Dataframe with MovieId"
      ],
      "execution_count": null,
      "outputs": []
    },
    {
      "cell_type": "markdown",
      "metadata": {
        "id": "LItNHIIJJgRZ"
      },
      "source": [
        "Data Processing:"
      ]
    },
    {
      "cell_type": "code",
      "metadata": {
        "id": "a7V6KqWSoO2u"
      },
      "source": [
        "#userId and movieId starts from 1, we shift that to 0 for matrix factorization computation\n",
        "users_df[\"userId\"] = users_df[\"userId\"].apply(lambda x: str(x-1))\n",
        "movies_df[\"movieId\"] = movies_df[\"movieId\"].apply(lambda x: str(x-1))\n",
        "movies_df[\"year\"] = movies_df['release_date'].apply(lambda x: str(x).split('-')[-1])\n",
        "ratings_df[\"movieId\"] = ratings_df[\"movieId\"].apply(lambda x: str(x-1))\n",
        "ratings_df[\"userId\"] = ratings_df[\"userId\"].apply(lambda x: str(x-1))\n",
        "ratings_df[\"rating\"] = ratings_df[\"rating\"].apply(lambda x: float(x))\n",
        "movies_df['title'] = movies_df.title.str.replace('[(\\d\\d\\d\\d)]', \"\")\n",
        "movies_df['title'] = movies_df['title'].apply(lambda x: x.strip())"
      ],
      "execution_count": null,
      "outputs": []
    },
    {
      "cell_type": "markdown",
      "metadata": {
        "id": "GkAqRGZrqkKR"
      },
      "source": [
        "end of data processing"
      ]
    },
    {
      "cell_type": "markdown",
      "metadata": {
        "id": "DzsRqEIgrKRc"
      },
      "source": [
        "Merging the userId, movieId, and their consecutive rating by each user.\n"
      ]
    },
    {
      "cell_type": "code",
      "metadata": {
        "id": "KxQWZqsAqS_N"
      },
      "source": [
        "movielens_data = ratings_df.merge(movies_df, on='movieId').merge(users_df, on='userId')"
      ],
      "execution_count": null,
      "outputs": []
    },
    {
      "cell_type": "code",
      "metadata": {
        "id": "xmIENqaYq7C0"
      },
      "source": [
        "movies_df = movies_df[['movieId', 'title', 'release_date', 'imdb_url','all_genres', 'genre_unknown',\n",
        "       'Action', 'Adventure', 'Animation', 'Children', 'Comedy', 'Crime',\n",
        "       'Documentary', 'Drama', 'Fantasy', 'Film-Noir', 'Horror', 'Musical',\n",
        "       'Mystery', 'Romance', 'Sci-Fi', 'Thriller', 'War', 'Western', 'genre']]"
      ],
      "execution_count": null,
      "outputs": []
    },
    {
      "cell_type": "code",
      "metadata": {
        "id": "WNkoQpcYRVH0"
      },
      "source": [
        "movies_df"
      ],
      "execution_count": null,
      "outputs": []
    },
    {
      "cell_type": "markdown",
      "metadata": {
        "id": "a5-yevvmJ1jw"
      },
      "source": [
        "Functions to split data, create sparse tensor, Model helper, and the model:"
      ]
    },
    {
      "cell_type": "code",
      "metadata": {
        "id": "jFkaS5w62288"
      },
      "source": [
        "#splits dataset to train and test\n",
        "def split_dataframe(df):\n",
        "  #splits the dataframe into test and train, test with 20% of DF. Initalizing random_state so that we get the same split every time.\n",
        "    test = df.sample(frac = 0.2, replace = False, random_state = 100) \n",
        "    train = df[~df.index.isin(test.index)] \n",
        "    \n",
        "    return train, test"
      ],
      "execution_count": null,
      "outputs": []
    },
    {
      "cell_type": "code",
      "metadata": {
        "id": "G7mEDcGUrFrg"
      },
      "source": [
        "#creating sparse tensor\n",
        "def build_sparse_tensor(ratings_df):\n",
        "    indices = ratings_df[['userId', 'movieId']].values #indices value of User (userId) and the movies (movieId) the user has rated\n",
        "    ratings = ratings_df['rating'].values\n",
        "    users = users_df.shape[0] #number of users\n",
        "    movies = movies_df.shape[0] #number of movies\n",
        "\n",
        "    sparseTensor = tf.SparseTensor(\n",
        "        indices = indices, values = ratings, \n",
        "        dense_shape = [users, movies]) #returns a sparse tensor and indices of of non-zero ratings in the DF\n",
        "    \n",
        "    return sparseTensor"
      ],
      "execution_count": null,
      "outputs": []
    },
    {
      "cell_type": "code",
      "metadata": {
        "id": "apApp8aSrorZ"
      },
      "source": [
        "#function to calculate the loss function MSE\n",
        "def sparse_mean_square_error(sparseTensor, user_em, movie_em):\n",
        "    \n",
        "    predictions = tf.gather_nd(tf.matmul(user_em, movie_em, transpose_b=True),sparseTensor.indices) #return values(rating predictions) of given indices to check with acutal ratings\n",
        "    loss = tf.losses.mean_squared_error(sparseTensor.values, predictions) #mean square error of actual_rating - predicted_rating\n",
        "    \n",
        "    return loss "
      ],
      "execution_count": null,
      "outputs": []
    },
    {
      "cell_type": "code",
      "metadata": {
        "id": "RHwdIGQLuMKM"
      },
      "source": [
        "#Regularization of the Embedding and Predcited Rating\n",
        "def regularization_loss(reg_coeff, gravity_coeff, U, V):\n",
        "    \n",
        "    reg_loss = reg_coeff * (tf.reduce_sum(U * U)/U.shape[0].value + tf.reduce_sum(V * V)/V.shape[0].value) #l2 norm\n",
        "    gravity_loss = gravity_coeff * (1. / (U.shape[0].value*V.shape[0].value) * tf.reduce_sum(tf.matmul(U, U, transpose_a=True) * tf.matmul(V, V, transpose_a=True)))\n",
        "    total_reg_loss = reg_loss + gravity_loss\n",
        "\n",
        "    return total_reg_loss"
      ],
      "execution_count": null,
      "outputs": []
    },
    {
      "cell_type": "code",
      "metadata": {
        "id": "iuhlDyvJvYeS"
      },
      "source": [
        "#Model Helper class where SGD is performed on the loss and Embeddings are optimized\n",
        "class Rec_model(tf.Module):\n",
        "  \n",
        "  #constructor\n",
        "  def __init__(self, embedding_vars, loss, metrics):\n",
        "    self._loss = loss\n",
        "    self._metrics = metrics\n",
        "    self._embedding_vars = embedding_vars\n",
        "    self._embeddings = {embedding: None for embedding in embedding_vars}\n",
        "    self._session = None\n",
        "\n",
        "  #getter method for embeddings\n",
        "  @property\n",
        "  def embeddings(self):\n",
        "    return self._embeddings\n",
        "  \n",
        "  #a call function to train with some default parameters\n",
        "  def train(self, iterations = 100, learning_rate = 1., optimizer = tf.train.GradientDescentOptimizer):\n",
        "    with self._loss.graph.as_default():\n",
        "      opt = optimizer(learning_rate)\n",
        "      train = opt.minimize(self._loss)\n",
        "      init = tf.global_variables_initializer()\n",
        "\n",
        "      if self._session is None:\n",
        "        self._session = tf.Session()\n",
        "        with self._session.as_default():\n",
        "          self._session.run(init)\n",
        "\n",
        "      with self._session.as_default():\n",
        "        #local_init.run()\n",
        "        for i in range(iterations + 1):\n",
        "          _, results = self._session.run((train, self._metrics))\n",
        "          if (i % 10 == 0) or i == iterations:\n",
        "            print(\"\\r iteration number %d: \" % i + \", \".join([\"%s = %0.4f\" % (error, value) for r in results for error, value in r.items()]),end='')\n",
        "        \n",
        "        for k, v in self._embedding_vars.items():\n",
        "          self._embeddings[k] = v.eval()\n",
        "\n",
        "    return results\n"
      ],
      "execution_count": null,
      "outputs": []
    },
    {
      "cell_type": "code",
      "metadata": {
        "id": "Xw-8RBYMwTvd"
      },
      "source": [
        "#model function where Tensorflow variables are initialzed (U-em and V-em) and loss is initialized, and then variables are sent to model helper.\n",
        "def build_model(ratings_df, embedding_dem, regularization_coeff, gravity_coeff, init_stddev):\n",
        "    \n",
        "    train, test = split_dataframe(ratings_df)\n",
        "    \n",
        "    train_sparse = build_sparse_tensor(train)\n",
        "    test_sparse = build_sparse_tensor(test)\n",
        "    \n",
        "    U = tf.Variable(tf.random_normal([train_sparse.dense_shape[0], embedding_dem], stddev=init_stddev))\n",
        "    V = tf.Variable(tf.random_normal([train_sparse.dense_shape[1], embedding_dem], stddev=init_stddev))\n",
        "    \n",
        "    train_loss = sparse_mean_square_error(train_sparse, U, V)\n",
        "    test_loss = sparse_mean_square_error(test_sparse, U, V)\n",
        "    \n",
        "    reg_loss = regularization_loss(regularization_coeff, gravity_coeff,  U, V)\n",
        "    \n",
        "    total_train_loss = train_loss + reg_loss\n",
        "    \n",
        "    metrics = {\n",
        "        'train_error': train_loss,\n",
        "        'test_error': test_loss\n",
        "    }\n",
        "    embeddings = {\n",
        "      \"user\": U,\n",
        "      \"movie\": V\n",
        "  }\n",
        "    return embeddings, total_train_loss, [metrics]"
      ],
      "execution_count": null,
      "outputs": []
    },
    {
      "cell_type": "markdown",
      "metadata": {
        "id": "MITK-7JMKCL4"
      },
      "source": [
        "Build the Model and Train it using the train function we created in the helper class:"
      ]
    },
    {
      "cell_type": "code",
      "metadata": {
        "id": "D3XKBhJVwUrm"
      },
      "source": [
        "em, loss, metrics = build_model(ratings_df, embedding_dem = 25, regularization_coeff = 0.1, gravity_coeff = 1.0, init_stddev=0.5) #variables returned from Model"
      ],
      "execution_count": null,
      "outputs": []
    },
    {
      "cell_type": "code",
      "metadata": {
        "id": "GBq08jm23LX_"
      },
      "source": [
        "model = Rec_model(em, loss, metrics) #variables sent to model helper."
      ],
      "execution_count": null,
      "outputs": []
    },
    {
      "cell_type": "code",
      "metadata": {
        "colab": {
          "base_uri": "https://localhost:8080/"
        },
        "id": "G7LbvS3bH13Q",
        "outputId": "af0b34e5-501b-4222-f0bf-25a791658b2d"
      },
      "source": [
        "model.train(learning_rate= 1.0, iterations = 5000)"
      ],
      "execution_count": null,
      "outputs": [
        {
          "output_type": "stream",
          "text": [
            " iteration number 5000: train_error = 1.3870, test_error = 2.2911"
          ],
          "name": "stdout"
        },
        {
          "output_type": "execute_result",
          "data": {
            "text/plain": [
              "[DictWrapper({'train_error': 1.3869758, 'test_error': 2.2911236})]"
            ]
          },
          "metadata": {
            "tags": []
          },
          "execution_count": 81
        }
      ]
    },
    {
      "cell_type": "markdown",
      "metadata": {
        "id": "-t2XjH6HKJ46"
      },
      "source": [
        "Functions to calculate Cosine Similarity Score of a movie or user to find similar movies or users to make recommendations:"
      ]
    },
    {
      "cell_type": "code",
      "metadata": {
        "id": "j1nwM_n8-lI3"
      },
      "source": [
        "#computes cosine simialrit score\n",
        "def compute_scores(movie_em, item_em):\n",
        "  U = movie_em\n",
        "  V = item_em\n",
        "  #cosine similarity (a, b) = dot(a, b) / sqrt(summation|a|^2 * summation|b|^2)\n",
        "  U = U / np.linalg.norm(U)  #linalg.norm uses the Forbenius Norm \n",
        "  V = V / np.linalg.norm(V, axis=1, keepdims=True)\n",
        "  \n",
        "  cos_sim_scores = U.dot(V.T)\n",
        "\n",
        "  return cos_sim_scores"
      ],
      "execution_count": null,
      "outputs": []
    },
    {
      "cell_type": "code",
      "metadata": {
        "id": "mLq4JAVBCze3"
      },
      "source": [
        "def user_recommendations(model, user, exclude_rated = False, k=6):\n",
        "\n",
        "#generate recommendations for existing user using User Id as parameter.\n",
        "  scores = compute_scores(\n",
        "      model.embeddings[\"user\"][user], model.embeddings[\"movie\"])\n",
        "\n",
        "  df = pd.DataFrame({\n",
        "      'cosine score': list(scores),\n",
        "      'movie': movies_df['movieId'],\n",
        "      'titles': movies_df['title']\n",
        "  })\n",
        "  \n",
        "  if exclude_rated == True:\n",
        "    rated_movies = ratings_df[ratings_df.userId == user]['movieId'].values\n",
        "    df = df[df.movie.apply(lambda x: x not in rated_movies)]\n",
        "  \n",
        "  display.display(df.sort_values(['cosine score'], ascending=False).head(k))\n",
        "\n",
        "\n",
        "def new_recommendations(model, title, k=6):\n",
        "\n",
        "  #generate recommendations for new user using Movie Id as paramter.\n",
        "  ids =  movies_df[movies_df['title'].str.contains(title)].index.values\n",
        "  titles = movies_df.iloc[ids]['title'].values\n",
        "  if len(titles) == 0:\n",
        "    raise ValueError(\"Found no movies with title\" % title)\n",
        "  print(\"Recommendations for Movie: %s\" % titles[0])\n",
        "\n",
        "  movie_id = ids[0]\n",
        "  scores = compute_scores(\n",
        "      model.embeddings[\"movie\"][movie_id], model.embeddings[\"movie\"])\n",
        "  df = pd.DataFrame({\n",
        "      'cosine score': list(scores),\n",
        "      'titles': movies_df['title']\n",
        "  })\n",
        "  display.display(df.sort_values(['cosine score'], ascending=False).head(k))"
      ],
      "execution_count": null,
      "outputs": []
    },
    {
      "cell_type": "code",
      "metadata": {
        "colab": {
          "base_uri": "https://localhost:8080/",
          "height": 359
        },
        "id": "RONCUv-TC_LY",
        "outputId": "6d73ecf2-3484-44a2-a6de-06f4b3075e78"
      },
      "source": [
        "user_recommendations(model, user = 0 ,exclude_rated = False, k=10)  #input User_id and K = no. of movies for recommendation as paramters"
      ],
      "execution_count": null,
      "outputs": [
        {
          "output_type": "display_data",
          "data": {
            "text/html": [
              "<div>\n",
              "<style scoped>\n",
              "    .dataframe tbody tr th:only-of-type {\n",
              "        vertical-align: middle;\n",
              "    }\n",
              "\n",
              "    .dataframe tbody tr th {\n",
              "        vertical-align: top;\n",
              "    }\n",
              "\n",
              "    .dataframe thead th {\n",
              "        text-align: right;\n",
              "    }\n",
              "</style>\n",
              "<table border=\"1\" class=\"dataframe\">\n",
              "  <thead>\n",
              "    <tr style=\"text-align: right;\">\n",
              "      <th></th>\n",
              "      <th>cosine score</th>\n",
              "      <th>movie</th>\n",
              "      <th>titles</th>\n",
              "    </tr>\n",
              "  </thead>\n",
              "  <tbody>\n",
              "    <tr>\n",
              "      <th>47</th>\n",
              "      <td>0.781483</td>\n",
              "      <td>47</td>\n",
              "      <td>Hoop Dreams</td>\n",
              "    </tr>\n",
              "    <tr>\n",
              "      <th>80</th>\n",
              "      <td>0.759109</td>\n",
              "      <td>80</td>\n",
              "      <td>Hudsucker Proxy, The</td>\n",
              "    </tr>\n",
              "    <tr>\n",
              "      <th>432</th>\n",
              "      <td>0.734611</td>\n",
              "      <td>432</td>\n",
              "      <td>Heathers</td>\n",
              "    </tr>\n",
              "    <tr>\n",
              "      <th>159</th>\n",
              "      <td>0.732638</td>\n",
              "      <td>159</td>\n",
              "      <td>Glengarry Glen Ross</td>\n",
              "    </tr>\n",
              "    <tr>\n",
              "      <th>167</th>\n",
              "      <td>0.727280</td>\n",
              "      <td>167</td>\n",
              "      <td>Monty Python and the Holy Grail</td>\n",
              "    </tr>\n",
              "    <tr>\n",
              "      <th>12</th>\n",
              "      <td>0.725088</td>\n",
              "      <td>12</td>\n",
              "      <td>Mighty Aphrodite</td>\n",
              "    </tr>\n",
              "    <tr>\n",
              "      <th>168</th>\n",
              "      <td>0.722535</td>\n",
              "      <td>168</td>\n",
              "      <td>Wrong Trousers, The</td>\n",
              "    </tr>\n",
              "    <tr>\n",
              "      <th>178</th>\n",
              "      <td>0.721432</td>\n",
              "      <td>178</td>\n",
              "      <td>Clockwork Orange, A</td>\n",
              "    </tr>\n",
              "    <tr>\n",
              "      <th>155</th>\n",
              "      <td>0.719998</td>\n",
              "      <td>155</td>\n",
              "      <td>Reservoir Dogs</td>\n",
              "    </tr>\n",
              "    <tr>\n",
              "      <th>64</th>\n",
              "      <td>0.716954</td>\n",
              "      <td>64</td>\n",
              "      <td>What's Eating Gilbert Grape</td>\n",
              "    </tr>\n",
              "  </tbody>\n",
              "</table>\n",
              "</div>"
            ],
            "text/plain": [
              "     cosine score movie                           titles\n",
              "47       0.781483    47                      Hoop Dreams\n",
              "80       0.759109    80             Hudsucker Proxy, The\n",
              "432      0.734611   432                         Heathers\n",
              "159      0.732638   159              Glengarry Glen Ross\n",
              "167      0.727280   167  Monty Python and the Holy Grail\n",
              "12       0.725088    12                 Mighty Aphrodite\n",
              "168      0.722535   168              Wrong Trousers, The\n",
              "178      0.721432   178              Clockwork Orange, A\n",
              "155      0.719998   155                   Reservoir Dogs\n",
              "64       0.716954    64      What's Eating Gilbert Grape"
            ]
          },
          "metadata": {
            "tags": []
          }
        }
      ]
    },
    {
      "cell_type": "code",
      "metadata": {
        "id": "l4TU7fz6D5z8",
        "colab": {
          "base_uri": "https://localhost:8080/",
          "height": 376
        },
        "outputId": "b1655fd0-4b93-4753-c130-eae997e17a9f"
      },
      "source": [
        "new_recommendations(model, \"Pulp Fiction\", k= 10)  #send movie title as paramter."
      ],
      "execution_count": null,
      "outputs": [
        {
          "output_type": "stream",
          "text": [
            "Recommendations for Movie: Pulp Fiction\n"
          ],
          "name": "stdout"
        },
        {
          "output_type": "display_data",
          "data": {
            "text/html": [
              "<div>\n",
              "<style scoped>\n",
              "    .dataframe tbody tr th:only-of-type {\n",
              "        vertical-align: middle;\n",
              "    }\n",
              "\n",
              "    .dataframe tbody tr th {\n",
              "        vertical-align: top;\n",
              "    }\n",
              "\n",
              "    .dataframe thead th {\n",
              "        text-align: right;\n",
              "    }\n",
              "</style>\n",
              "<table border=\"1\" class=\"dataframe\">\n",
              "  <thead>\n",
              "    <tr style=\"text-align: right;\">\n",
              "      <th></th>\n",
              "      <th>cosine score</th>\n",
              "      <th>titles</th>\n",
              "    </tr>\n",
              "  </thead>\n",
              "  <tbody>\n",
              "    <tr>\n",
              "      <th>55</th>\n",
              "      <td>1.000000</td>\n",
              "      <td>Pulp Fiction</td>\n",
              "    </tr>\n",
              "    <tr>\n",
              "      <th>11</th>\n",
              "      <td>0.907979</td>\n",
              "      <td>Usual Suspects, The</td>\n",
              "    </tr>\n",
              "    <tr>\n",
              "      <th>54</th>\n",
              "      <td>0.838927</td>\n",
              "      <td>Professional, The</td>\n",
              "    </tr>\n",
              "    <tr>\n",
              "      <th>97</th>\n",
              "      <td>0.817772</td>\n",
              "      <td>Silence of the Lambs, The</td>\n",
              "    </tr>\n",
              "    <tr>\n",
              "      <th>88</th>\n",
              "      <td>0.817433</td>\n",
              "      <td>Blade Runner</td>\n",
              "    </tr>\n",
              "    <tr>\n",
              "      <th>182</th>\n",
              "      <td>0.807629</td>\n",
              "      <td>Alien</td>\n",
              "    </tr>\n",
              "    <tr>\n",
              "      <th>237</th>\n",
              "      <td>0.802529</td>\n",
              "      <td>Raising Arizona</td>\n",
              "    </tr>\n",
              "    <tr>\n",
              "      <th>233</th>\n",
              "      <td>0.798982</td>\n",
              "      <td>Jaws</td>\n",
              "    </tr>\n",
              "    <tr>\n",
              "      <th>356</th>\n",
              "      <td>0.795394</td>\n",
              "      <td>One Flew Over the Cuckoo's Nest</td>\n",
              "    </tr>\n",
              "    <tr>\n",
              "      <th>199</th>\n",
              "      <td>0.791362</td>\n",
              "      <td>Shining, The</td>\n",
              "    </tr>\n",
              "  </tbody>\n",
              "</table>\n",
              "</div>"
            ],
            "text/plain": [
              "     cosine score                           titles\n",
              "55       1.000000                     Pulp Fiction\n",
              "11       0.907979              Usual Suspects, The\n",
              "54       0.838927                Professional, The\n",
              "97       0.817772        Silence of the Lambs, The\n",
              "88       0.817433                     Blade Runner\n",
              "182      0.807629                            Alien\n",
              "237      0.802529                  Raising Arizona\n",
              "233      0.798982                             Jaws\n",
              "356      0.795394  One Flew Over the Cuckoo's Nest\n",
              "199      0.791362                     Shining, The"
            ]
          },
          "metadata": {
            "tags": []
          }
        }
      ]
    },
    {
      "cell_type": "code",
      "metadata": {
        "id": "EFFK9dfv8rbv",
        "colab": {
          "base_uri": "https://localhost:8080/",
          "height": 669
        },
        "outputId": "bdef2499-11a4-4958-9bd2-353fa00dbaa5"
      },
      "source": [
        "movielens_data[movielens_data.userId == '0'][['movieId', 'title', 'rating']].sort_values(by = 'rating', ascending = False).head(20)  # to view previously rated movies of user"
      ],
      "execution_count": null,
      "outputs": [
        {
          "output_type": "execute_result",
          "data": {
            "text/html": [
              "<div>\n",
              "<style scoped>\n",
              "    .dataframe tbody tr th:only-of-type {\n",
              "        vertical-align: middle;\n",
              "    }\n",
              "\n",
              "    .dataframe tbody tr th {\n",
              "        vertical-align: top;\n",
              "    }\n",
              "\n",
              "    .dataframe thead th {\n",
              "        text-align: right;\n",
              "    }\n",
              "</style>\n",
              "<table border=\"1\" class=\"dataframe\">\n",
              "  <thead>\n",
              "    <tr style=\"text-align: right;\">\n",
              "      <th></th>\n",
              "      <th>movieId</th>\n",
              "      <th>title</th>\n",
              "      <th>rating</th>\n",
              "    </tr>\n",
              "  </thead>\n",
              "  <tbody>\n",
              "    <tr>\n",
              "      <th>1478</th>\n",
              "      <td>241</td>\n",
              "      <td>Kolya</td>\n",
              "      <td>5.0</td>\n",
              "    </tr>\n",
              "    <tr>\n",
              "      <th>1543</th>\n",
              "      <td>257</td>\n",
              "      <td>Contact</td>\n",
              "      <td>5.0</td>\n",
              "    </tr>\n",
              "    <tr>\n",
              "      <th>1646</th>\n",
              "      <td>43</td>\n",
              "      <td>Dolores Claiborne</td>\n",
              "      <td>5.0</td>\n",
              "    </tr>\n",
              "    <tr>\n",
              "      <th>1554</th>\n",
              "      <td>177</td>\n",
              "      <td>Angry Men</td>\n",
              "      <td>5.0</td>\n",
              "    </tr>\n",
              "    <tr>\n",
              "      <th>1553</th>\n",
              "      <td>227</td>\n",
              "      <td>Star Trek: The Wrath of Khan</td>\n",
              "      <td>5.0</td>\n",
              "    </tr>\n",
              "    <tr>\n",
              "      <th>1552</th>\n",
              "      <td>234</td>\n",
              "      <td>Mars Attacks!</td>\n",
              "      <td>5.0</td>\n",
              "    </tr>\n",
              "    <tr>\n",
              "      <th>1551</th>\n",
              "      <td>201</td>\n",
              "      <td>Groundhog Day</td>\n",
              "      <td>5.0</td>\n",
              "    </tr>\n",
              "    <tr>\n",
              "      <th>1547</th>\n",
              "      <td>47</td>\n",
              "      <td>Hoop Dreams</td>\n",
              "      <td>5.0</td>\n",
              "    </tr>\n",
              "    <tr>\n",
              "      <th>1651</th>\n",
              "      <td>189</td>\n",
              "      <td>Henry V</td>\n",
              "      <td>5.0</td>\n",
              "    </tr>\n",
              "    <tr>\n",
              "      <th>1545</th>\n",
              "      <td>215</td>\n",
              "      <td>When Harry Met Sally...</td>\n",
              "      <td>5.0</td>\n",
              "    </tr>\n",
              "    <tr>\n",
              "      <th>1544</th>\n",
              "      <td>171</td>\n",
              "      <td>Empire Strikes Back, The</td>\n",
              "      <td>5.0</td>\n",
              "    </tr>\n",
              "    <tr>\n",
              "      <th>1652</th>\n",
              "      <td>268</td>\n",
              "      <td>Full Monty, The</td>\n",
              "      <td>5.0</td>\n",
              "    </tr>\n",
              "    <tr>\n",
              "      <th>1524</th>\n",
              "      <td>95</td>\n",
              "      <td>Terminator : Judgment Day</td>\n",
              "      <td>5.0</td>\n",
              "    </tr>\n",
              "    <tr>\n",
              "      <th>1655</th>\n",
              "      <td>128</td>\n",
              "      <td>Bound</td>\n",
              "      <td>5.0</td>\n",
              "    </tr>\n",
              "    <tr>\n",
              "      <th>1540</th>\n",
              "      <td>136</td>\n",
              "      <td>Big Night</td>\n",
              "      <td>5.0</td>\n",
              "    </tr>\n",
              "    <tr>\n",
              "      <th>1656</th>\n",
              "      <td>8</td>\n",
              "      <td>Dead Man Walking</td>\n",
              "      <td>5.0</td>\n",
              "    </tr>\n",
              "    <tr>\n",
              "      <th>1537</th>\n",
              "      <td>176</td>\n",
              "      <td>Good, The Bad and The Ugly, The</td>\n",
              "      <td>5.0</td>\n",
              "    </tr>\n",
              "    <tr>\n",
              "      <th>1535</th>\n",
              "      <td>267</td>\n",
              "      <td>Chasing Amy</td>\n",
              "      <td>5.0</td>\n",
              "    </tr>\n",
              "    <tr>\n",
              "      <th>1534</th>\n",
              "      <td>13</td>\n",
              "      <td>Postino, Il</td>\n",
              "      <td>5.0</td>\n",
              "    </tr>\n",
              "    <tr>\n",
              "      <th>1665</th>\n",
              "      <td>90</td>\n",
              "      <td>Nightmare Before Christmas, The</td>\n",
              "      <td>5.0</td>\n",
              "    </tr>\n",
              "  </tbody>\n",
              "</table>\n",
              "</div>"
            ],
            "text/plain": [
              "     movieId                            title  rating\n",
              "1478     241                            Kolya     5.0\n",
              "1543     257                          Contact     5.0\n",
              "1646      43                Dolores Claiborne     5.0\n",
              "1554     177                        Angry Men     5.0\n",
              "1553     227     Star Trek: The Wrath of Khan     5.0\n",
              "1552     234                    Mars Attacks!     5.0\n",
              "1551     201                    Groundhog Day     5.0\n",
              "1547      47                      Hoop Dreams     5.0\n",
              "1651     189                          Henry V     5.0\n",
              "1545     215          When Harry Met Sally...     5.0\n",
              "1544     171         Empire Strikes Back, The     5.0\n",
              "1652     268                  Full Monty, The     5.0\n",
              "1524      95        Terminator : Judgment Day     5.0\n",
              "1655     128                            Bound     5.0\n",
              "1540     136                        Big Night     5.0\n",
              "1656       8                 Dead Man Walking     5.0\n",
              "1537     176  Good, The Bad and The Ugly, The     5.0\n",
              "1535     267                      Chasing Amy     5.0\n",
              "1534      13                      Postino, Il     5.0\n",
              "1665      90  Nightmare Before Christmas, The     5.0"
            ]
          },
          "metadata": {
            "tags": []
          },
          "execution_count": 76
        }
      ]
    }
  ]
}